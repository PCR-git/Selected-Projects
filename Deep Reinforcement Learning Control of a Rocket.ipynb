{
  "nbformat": 4,
  "nbformat_minor": 0,
  "metadata": {
    "colab": {
      "name": "Reinforcement Learning Control of a Rocket.ipynb",
      "provenance": [],
      "collapsed_sections": [
        "ssdJEmtqJZYL",
        "JtZVjIJPJdKQ"
      ]
    },
    "kernelspec": {
      "display_name": "Python 3",
      "name": "python3"
    },
    "language_info": {
      "name": "python"
    }
  },
  "cells": [
    {
      "cell_type": "markdown",
      "metadata": {
        "id": "JM5GmtAviQQo"
      },
      "source": [
        "# Controlling a Rocket with Reinforcement Learning"
      ]
    },
    {
      "cell_type": "markdown",
      "metadata": {
        "id": "eKrSSGWcGmDX"
      },
      "source": [
        "## Problem Setup"
      ]
    },
    {
      "cell_type": "markdown",
      "metadata": {
        "id": "to9UpPhlyy8d"
      },
      "source": [
        "Consider the problem of maximizing the terminal horizontal velocity component of a rocket in a specified time [t0, tf ] subject to a specified terminal altitude and a specified terminal vertical velocity component. **\n",
        "\n",
        "The rocket is governed by the following equations of motion: \\\\\n",
        "x1'(t) = x3(t)             # Horizontal Displacement \\\\\n",
        "x2'(t) = x4(t)             # Vertical Displacement \\\\\n",
        "x3'(t) = T cos(u(t))       # Horizontal Velocity \\\\\n",
        "x4'(t) = T sin(u(t)) − g   # Vertical Velocity \\\\\n",
        "u(t) is the inclination of the rocket's thrust vector to the horizontal. \\\\\n",
        "T > g is a constant (the rocket's thrust).\n",
        "\n",
        "Suppose that at time t=0 the rocket starts at rest. We wish to lift the rocket to a final height h in time tf, at which time the rocket's speed in the vertical direction should be zero.\n",
        "\n",
        "** Problem from Primer on Optimal Control Theory (Speyer and Jacobson)"
      ]
    },
    {
      "cell_type": "code",
      "metadata": {
        "id": "vYuyPLBcuNXi"
      },
      "source": [
        "## Imports\n",
        "import numpy as np\n",
        "import math\n",
        "import matplotlib.pyplot as plt\n",
        "import time"
      ],
      "execution_count": null,
      "outputs": []
    },
    {
      "cell_type": "code",
      "metadata": {
        "id": "P9QNCJn4ueLv"
      },
      "source": [
        "## System Parameters:\n",
        "g = 32 # Gravitational acceleration (ft/sec^2)\n",
        "T = 2*g # Constant specific thrust of the rocket\n",
        "h = 320000 # Final height in ft\n",
        "t0 = 0 # Start time (sec)\n",
        "tf = 900 # Final time (sec)\n",
        "dt = 1 # Time step (in diff. eq. solver)\n",
        "Nt = int(tf/dt)+1 # Number of time steps\n",
        "tvec = np.linspace(0,tf,Nt) # Vector of time steps\n",
        "\n",
        "## Initial Conditions:\n",
        "## (zero displacement & velocity)\n",
        "X0 = np.array([0,0,0,0])\n",
        "\n",
        "## Final Conditions:\n",
        "## (height h, zero vertical speed)\n",
        "# x2_f = h\n",
        "# x4_f = 0\n",
        "# psif = np.array([x2_f,x4_f])"
      ],
      "execution_count": null,
      "outputs": []
    },
    {
      "cell_type": "code",
      "metadata": {
        "id": "eG1PRUoot7iS"
      },
      "source": [
        "## Solves the system's equations of motion:\n",
        "def f_DynamicSim(uN,t0,tf,g,T,dt,X0):\n",
        "\n",
        "  Nt = int(tf/dt) + 1 # Number of time steps\n",
        "  Xi = X0 # Initialize state at ith time step\n",
        "  XN = np.zeros((4,Nt)) # Initialize nominal state\n",
        "  XN[:,0] = X0 # Initial conditions\n",
        "\n",
        "  i = 0 # Initialize iteration counter\n",
        "  ti = t0 # Initialize time counter\n",
        "  # Iterate over time interval:\n",
        "  # (At final time step: i+1 = tf/dt, where i = ti/dt => ti = tf - dt)\n",
        "  while ti <= tf-dt:\n",
        "    \n",
        "    # Update derivative using the equations of motion\n",
        "    Xp = np.array([Xi[2], Xi[3], T*np.cos(uN[i]), T*np.sin(uN[i]) - g])\n",
        "    Xi = Xi + Xp*dt # Update state at ith time step\n",
        "\n",
        "    XN[:,i+1] = Xi # Update nominal state\n",
        "    i += 1 # Increment counter\n",
        "    ti += dt # Increment timer\n",
        "\n",
        "  # Ouput: Nominal state\n",
        "  return XN"
      ],
      "execution_count": null,
      "outputs": []
    },
    {
      "cell_type": "code",
      "metadata": {
        "id": "EKyWf_fwP67s"
      },
      "source": [
        "# Plotting the nominal control and the nominal state:\n",
        "def f_Plot_Control_State(XN,uN,tvec):\n",
        "\n",
        "  # Individual states:\n",
        "  x1_vec = XN[0,:] # Horizontal displacement\n",
        "  x2_vec = XN[1,:] # Vertical displacement\n",
        "  x3_vec = XN[2,:] # Horizontal velocity\n",
        "  x4_vec = XN[3,:] # Vertical velocity\n",
        "\n",
        "  # Final states:\n",
        "  x1f = x1_vec[-1] # Final horizontal displacement\n",
        "  x2f = x2_vec[-1] # Final vertical displacement\n",
        "  x3f = x3_vec[-1] # Final horizontal velocity\n",
        "  x4f = x4_vec[-1] # Final vertical velocity\n",
        "\n",
        "  ## Plot of the nominal control vs time:\n",
        "  fig, ax = plt.subplots(1,1, figsize = (7,7))\n",
        "  ax.plot(tvec, uN, '-', color = \"black\")\n",
        "  ax.set_title('Nominal Control', fontsize = 20)\n",
        "  ax.set_xlabel('Time (sec)', fontsize = 20)\n",
        "  ax.set_ylabel('Rocket Angle (rad)', fontsize = 20)\n",
        "  plt.xticks(fontsize = 20)\n",
        "  plt.yticks(fontsize = 20)\n",
        "  plt.grid()\n",
        "  plt.show()\n",
        "\n",
        "  # Plot of the nominal trajectory vs time:\n",
        "  fig, ax = plt.subplots(1,1, figsize = (7,7))\n",
        "  ax.plot(x1_vec, x2_vec, '-', color = \"black\")\n",
        "  ax.set_title('Nominal State', fontsize = 20)\n",
        "  ax.set_xlabel('Horizontal Displacement (ft)', fontsize = 20)\n",
        "  ax.set_ylabel('Vertical Displacement (ft)', fontsize = 20)\n",
        "  plt.xticks(fontsize = 20)\n",
        "  plt.yticks(fontsize = 20)\n",
        "\n",
        "  plt.grid()\n",
        "  plt.show()\n",
        "\n",
        "  # Print final height and speed:\n",
        "  print(\"Final height =\", round(x2f,3), \"ft\")\n",
        "  print(\"Final upward speed =\", round(x4f,3), \"ft/s\")"
      ],
      "execution_count": null,
      "outputs": []
    },
    {
      "cell_type": "code",
      "metadata": {
        "id": "fJuAuE440Qkj"
      },
      "source": [
        "## Plotting individual states vs time:\n",
        "def f_Plot_States(XN,tvec):\n",
        "  # Individual states:\n",
        "  x1_vec = XN[0,:] # Horizontal displacement\n",
        "  x2_vec = XN[1,:] # Vertical displacement\n",
        "  x3_vec = XN[2,:] # Horizontal velocity\n",
        "  x4_vec = XN[3,:] # Vertical velocity\n",
        "\n",
        "  ## Plot of the horizontal displacement vs time:\n",
        "  fig, ax = plt.subplots(1,1, figsize = (7,7))\n",
        "  ax.plot(tvec, x1_vec, '-', color = \"black\")\n",
        "  ax.set_title('Horizontal Displacement vs Time')\n",
        "  ax.set_xlabel('Time (sec)')\n",
        "  ax.set_ylabel('Horizontal Displacement (ft)')\n",
        "  plt.grid()\n",
        "  plt.show()\n",
        "\n",
        "  ## Plot of the vertical displacement vs time:\n",
        "  fig, ax = plt.subplots(1,1, figsize = (7,7))\n",
        "  ax.plot(tvec, x2_vec, '-', color = \"black\")\n",
        "  ax.set_title('Vertical Displacement vs Time')\n",
        "  ax.set_xlabel('Time (sec)')\n",
        "  ax.set_ylabel('Vertical Displacement (ft)')\n",
        "  plt.grid()\n",
        "  plt.show()\n",
        "\n",
        "  ## Plot of the horizontal speed vs time:\n",
        "  fig, ax = plt.subplots(1,1, figsize = (7,7))\n",
        "  ax.plot(tvec, x3_vec, '-', color = \"black\")\n",
        "  ax.set_title('Horizontal Speed vs Time')\n",
        "  ax.set_xlabel('Time (sec)')\n",
        "  ax.set_ylabel('Horizontal Speed (ft/s)')\n",
        "  plt.grid()\n",
        "  plt.show()\n",
        "\n",
        "  ## Plot of the upward speed vs time:\n",
        "  fig, ax = plt.subplots(1,1, figsize = (7,7))\n",
        "  ax.plot(tvec, x4_vec, '-', color = \"black\")\n",
        "  ax.set_title('Upward Speed vs Time')\n",
        "  ax.set_xlabel('Time (sec)')\n",
        "  ax.set_ylabel('Upward Speed (ft/s)')\n",
        "  plt.grid()\n",
        "  plt.show()"
      ],
      "execution_count": null,
      "outputs": []
    },
    {
      "cell_type": "code",
      "metadata": {
        "colab": {
          "base_uri": "https://localhost:8080/",
          "height": 979
        },
        "id": "AfJeRBDkuG2N",
        "outputId": "8e080d7c-f52f-4aa1-815d-9c8f68d07c95"
      },
      "source": [
        "## Guessing a nominal control:\n",
        "\n",
        "# At time tf, the rocket should be nearly horizontal:\n",
        "# => u(tf) = 0 = arctan[−ν4 − (tf − tf)*ν2] = arctan[−ν4]\n",
        "# => ν4 = -tan(0) = 0\n",
        "\n",
        "# On the other hand: At time tf, the rocket\n",
        "# should have about zero vertical acceleration:\n",
        "# => T*sin(u(tf)) = T*sin(arctan[−ν4 − (tf − tf)*ν2]) = g\n",
        "# => ν4 = -tan(arcsin(1/2)) = -tan(pi/6) = -1/sqrt(3) ~ -0.58\n",
        "\n",
        "# At time t0=0, suppose the rocket is at ui radians:\n",
        "# => u(0) = ui = arctan[−ν4 − tf*ν2]\n",
        "# => tan(ui) = -ν4 - tf*ν2\n",
        "# => ν2 = -(tan(ui)+ν4)/tf\n",
        "\n",
        "# Initial guess for nu4 and nu2:\n",
        "nu4 = -0.35 # Guess for ν4\n",
        "ui = math.pi/4.7 # Guess for initial angle\n",
        "nu2 = -(np.tan(ui)+nu4)/tf # ν2\n",
        "uN = np.array(np.arctan(-nu4 - (tf - tvec)*nu2)) # Nominal control\n",
        "\n",
        "XN = f_DynamicSim(uN,t0,tf,g,T,dt,X0)\n",
        "\n",
        "# Plotting the initial results:\n",
        "f_Plot_Control_State(XN,uN,tvec)\n",
        "\n",
        "# Plot the states\n",
        "# f_Plot_States(XN,tvec)"
      ],
      "execution_count": null,
      "outputs": [
        {
          "output_type": "display_data",
          "data": {
            "image/png": "[encoded data removed]",
            "text/plain": [
              "<Figure size 504x504 with 1 Axes>"
            ]
          },
          "metadata": {
            "tags": [],
            "needs_background": "light"
          }
        },
        {
          "output_type": "display_data",
          "data": {
            "image/png": "[encoded data removed]",
            "text/plain": [
              "<Figure size 504x504 with 1 Axes>"
            ]
          },
          "metadata": {
            "tags": [],
            "needs_background": "light"
          }
        },
        {
          "output_type": "stream",
          "text": [
            "Final height = 951076.481 ft\n",
            "Final upward speed = -660.95 ft/s\n"
          ],
          "name": "stdout"
        }
      ]
    },
    {
      "cell_type": "markdown",
      "metadata": {
        "id": "WeFNE3T9nAh-"
      },
      "source": [
        "## PD Controller (just because)"
      ]
    },
    {
      "cell_type": "code",
      "metadata": {
        "id": "Hd0trddB7osM"
      },
      "source": [
        "## PD Controller:\n",
        "def f_PD_Controller(Xi,ti,Nt,h,g,T,k_p=1,k_d=1):\n",
        "  theta_balance = np.round(math.asin(g/T),5)\n",
        "  P = k_p*(1-np.exp(-3*ti/Nt))*(h-Xi[1])/(3*h)\n",
        "  D = -k_d*Xi[3]/5000\n",
        "  return P + D  + theta_balance # Control\n",
        "\n",
        "def f_DynamicSim_Control(t0,tf,h,g,T,dt,X0):\n",
        "  Nt = int(tf/dt) + 1 # Number of time steps\n",
        "  Xi = X0 # Initialize state at ith time step\n",
        "  XN = np.zeros((4,Nt)) # Initialize nominal state\n",
        "  XN[:,0] = X0 # Initial conditions\n",
        "  uN = np.zeros(Nt) # Array of controls\n",
        "\n",
        "  i = 0 # Initialize iteration counter\n",
        "  ti = t0 # Initialize time counter\n",
        "  # Iterate over time interval:\n",
        "  # (At final time step: i+1 = tf/dt, where i = ti/dt => ti = tf - dt)\n",
        "  while ti <= tf-dt:\n",
        "    \n",
        "    # Update derivative using the equations of motion\n",
        "    u = f_PD_Controller(Xi,ti,Nt,h,g,T)\n",
        "    uN[i] = u # Append control to array\n",
        "    Xp = np.array([Xi[2], Xi[3], T*np.cos(u), T*np.sin(u) - g])\n",
        "    Xi = Xi + Xp*dt # Update state at ith time step\n",
        "\n",
        "    XN[:,i+1] = Xi # Update nominal state\n",
        "    i += 1 # Increment counter\n",
        "    ti += dt # Increment timer\n",
        "\n",
        "  uN[i] = f_PD_Controller(Xi,ti,Nt,h,g,T)\n",
        "\n",
        "  # Ouput: Nominal state\n",
        "  return XN, uN"
      ],
      "execution_count": null,
      "outputs": []
    },
    {
      "cell_type": "code",
      "metadata": {
        "id": "n9OVDI7tJ4qt",
        "colab": {
          "base_uri": "https://localhost:8080/",
          "height": 1000
        },
        "outputId": "98ad91e2-eac0-40d3-e202-6a59282f6fac"
      },
      "source": [
        "# Run the dynamic model:\n",
        "XN, uN = f_DynamicSim_Control(t0,tf,h,g,T,dt,X0)\n",
        "# uN_diff = uN[1:Nt] - uN[0:Nt-1]\n",
        "\n",
        "# Plotting the initial results:\n",
        "f_Plot_Control_State(XN,uN,tvec)\n",
        "\n",
        "# Plot the states\n",
        "f_Plot_States(XN,tvec)"
      ],
      "execution_count": null,
      "outputs": [
        {
          "output_type": "display_data",
          "data": {
            "image/png": "[encoded data removed]",
            "text/plain": [
              "<Figure size 504x504 with 1 Axes>"
            ]
          },
          "metadata": {
            "tags": [],
            "needs_background": "light"
          }
        },
        {
          "output_type": "display_data",
          "data": {
            "image/png": "[encoded data removed]",
            "text/plain": [
              "<Figure size 504x504 with 1 Axes>"
            ]
          },
          "metadata": {
            "tags": [],
            "needs_background": "light"
          }
        },
        {
          "output_type": "stream",
          "text": [
            "Final height = 322178.725 ft\n",
            "Final upward speed = 32.741 ft/s\n"
          ],
          "name": "stdout"
        },
        {
          "output_type": "display_data",
          "data": {
            "image/png": "[encoded data removed]",
            "text/plain": [
              "<Figure size 504x504 with 1 Axes>"
            ]
          },
          "metadata": {
            "tags": [],
            "needs_background": "light"
          }
        },
        {
          "output_type": "display_data",
          "data": {
            "image/png": "[encoded data removed]",
            "text/plain": [
              "<Figure size 504x504 with 1 Axes>"
            ]
          },
          "metadata": {
            "tags": [],
            "needs_background": "light"
          }
        },
        {
          "output_type": "display_data",
          "data": {
            "image/png": "[encoded data removed]",
            "text/plain": [
              "<Figure size 504x504 with 1 Axes>"
            ]
          },
          "metadata": {
            "tags": [],
            "needs_background": "light"
          }
        },
        {
          "output_type": "display_data",
          "data": {
            "image/png": "[encoded data removed]",
            "text/plain": [
              "<Figure size 504x504 with 1 Axes>"
            ]
          },
          "metadata": {
            "tags": [],
            "needs_background": "light"
          }
        }
      ]
    },
    {
      "cell_type": "markdown",
      "metadata": {
        "id": "5rZy_IvAymYa"
      },
      "source": [
        "## Neural Net"
      ]
    },
    {
      "cell_type": "markdown",
      "metadata": {
        "id": "j_pBjGojSrsp"
      },
      "source": [
        "### Network Architecture"
      ]
    },
    {
      "cell_type": "code",
      "metadata": {
        "id": "cZPujiIsyNSL"
      },
      "source": [
        "import numpy as np\n",
        "import math\n",
        "import torch\n",
        "import torch.optim as optim\n",
        "import torch.nn as nn\n",
        "from matplotlib import pyplot as plt\n",
        "import torch.nn.functional as F\n",
        "from torchvision import datasets, transforms\n",
        "from torch.utils.data import DataLoader, TensorDataset"
      ],
      "execution_count": null,
      "outputs": []
    },
    {
      "cell_type": "code",
      "metadata": {
        "id": "j0eEduq0pK2U"
      },
      "source": [
        "# Convert training data to train_loader format\n",
        "def f_Data(x,y,train_batch_sz=10,mode=0):\n",
        "  # Inputs:\n",
        "  # x: training data\n",
        "  # y: training labels\n",
        "\n",
        "  device = 'cuda' if torch.cuda.is_available() else 'cpu'\n",
        "\n",
        "  # Convert to torch tensors:\n",
        "  train_data= torch.from_numpy(x).float().to(device)\n",
        "  if mode == 0:\n",
        "    train_labels = torch.from_numpy(y).float().to(device)\n",
        "  else:\n",
        "    train_labels = torch.from_numpy(y).long().to(device)\n",
        "\n",
        "  # Create dataset from tensors with matching first dimension\n",
        "  # Samples will be drawn from the first dimension\n",
        "  train_dataset = TensorDataset(train_data, train_labels)\n",
        "\n",
        "  # Create a data loader from the dataset\n",
        "  # Type of sampling and batch size are specified at this step\n",
        "  train_loader = DataLoader(train_dataset, batch_size=train_batch_sz, shuffle=True)\n",
        "\n",
        "  # Create an iterator on the training loader\n",
        "  # (this is just to test the size of x_train and y_train)\n",
        "  cur_x, cur_y = next(iter(train_loader))\n",
        "  print(cur_x.size()) # x_train for current iteration\n",
        "  print(cur_y.size()) # y_train for current iteration\n",
        "\n",
        "  # variables for plotting results\n",
        "  # res = 10\n",
        "  # x_axis = (np.arange(data_range*res)-data_range/2*res).reshape(data_range*res,1)/res\n",
        "  # x_axis_torch = torch.from_numpy(x_axis).float().to(device)\n",
        "\n",
        "  return train_loader, train_data, train_labels"
      ],
      "execution_count": null,
      "outputs": []
    },
    {
      "cell_type": "code",
      "metadata": {
        "id": "y6uCUJ440bc7"
      },
      "source": [
        "# Fully-connected network for curve fitting:\n",
        "class fc_net(torch.nn.Module):\n",
        "# Network Structure:\n",
        "# Fully Connected -> ReLu -> Fully Connected -> Linear\n",
        "\n",
        "  # Initialize the network and specify input/output dimensions:\n",
        "  def __init__(self, num_in, num_out, w1):\n",
        "    super(fc_net, self).__init__()\n",
        "    self.h1 = torch.nn.Linear(in_features=num_in, out_features=w1)  # Fully-connected layer\n",
        "    self.h2 = torch.nn.Linear(in_features=w1, out_features=1) # Fully-connected layer\n",
        "  \n",
        "  # Build the network:\n",
        "  def forward(self, inputs):\n",
        "    a1 = F.relu(self.h1(inputs)) # ReLu activation\n",
        "    a2 = self.h2(a1) # Linear activation\n",
        "    # a2 = F.sigmoid(self.h2(a1),dim=-1) # Sigmoid activation\n",
        "    return a2"
      ],
      "execution_count": null,
      "outputs": []
    },
    {
      "cell_type": "code",
      "metadata": {
        "id": "pGNA86oj9V3q"
      },
      "source": [
        "# Fully connected network for classification\n",
        "class fc_net2(torch.nn.Module):\n",
        "# Network Structure:\n",
        "# Fully Connected -> ReLu -> Fully Connected -> Softmax\n",
        "    def __init__(self, num_in, num_out, w1, w2, init_params=0):\n",
        "        super(fc_net2, self).__init__()\n",
        "        self.h1 = torch.nn.Linear(in_features=num_in, out_features=w1)  # Fully-connected layer 1\n",
        "        self.h2 = torch.nn.Linear(in_features=w1, out_features=w2)  # Fully-connected layer 2\n",
        "        self.h3 = torch.nn.Linear(in_features=w2, out_features=num_out) # Fully-connected layer 3\n",
        "\n",
        "        # # Initialize weights and biases using Xavier initialization:\n",
        "        # if init_params == 0:\n",
        "        #   torch.nn.init.xavier_uniform_(self.h1.weight)\n",
        "        #   torch.nn.init.zeros_(self.h1.bias)\n",
        "        #   torch.nn.init.xavier_uniform_(self.h2.weight)\n",
        "        #   torch.nn.init.zeros_(self.h2.bias)\n",
        "        #   torch.nn.init.xavier_uniform_(self.h3.weight)\n",
        "        #   torch.nn.init.zeros_(self.h3.bias)\n",
        "    \n",
        "    def forward(self, inputs):\n",
        "        a1 = F.relu(self.h1(inputs)) # ReLu activation\n",
        "        a2 = F.relu(self.h2(a1)) # ReLu activation\n",
        "        a3 = F.softmax(self.h3(a2),dim=-1) # Softmax activation\n",
        "        return a3"
      ],
      "execution_count": null,
      "outputs": []
    },
    {
      "cell_type": "code",
      "metadata": {
        "id": "9rM1A9o6yldB"
      },
      "source": [
        "# Train the model:\n",
        "def train(model,loss,train_loader,optimizer,epoch=0):\n",
        "  model.train()\n",
        "  # print('Train Epoch: ', epoch)\n",
        "  for batch_idx, (cur_x, cur_y) in enumerate(train_loader):\n",
        "\n",
        "    optimizer.zero_grad() # Zero out gradients\n",
        "    output = model.forward(cur_x) # Propagate forward through network\n",
        "    cur_loss = loss(output, cur_y) # Compute loss at current iteration\n",
        "    cur_loss.backward() # Backprop\n",
        "    optimizer.step() # Step of optimizer\n",
        "    losses.append(cur_loss)\n",
        "    \n",
        "    # if np.mod(batch_idx+1,it) == 0:\n",
        "    #   print('Iteration: ', batch_idx+1, ' Loss: ', round(cur_loss.item(),5))"
      ],
      "execution_count": null,
      "outputs": []
    },
    {
      "cell_type": "code",
      "metadata": {
        "id": "2i04XvejI-q-"
      },
      "source": [
        "# Test the model:\n",
        "def test(model,loss,test_loader):\n",
        "    model.eval()\n",
        "    print('Test Set:')\n",
        "    \n",
        "    test_loss = 0\n",
        "    correct = 0\n",
        "    with torch.no_grad():\n",
        "        for batch_idx, (cur_x, cur_y) in enumerate(test_loader):\n",
        "\n",
        "            output = model.forward(cur_x)\n",
        "            test_loss = loss(output, cur_y)\n",
        "            preds = output.argmax(dim=1, keepdim=True)  # get the index of the max log-probability\n",
        "            correct += preds.eq(cur_y.view_as(preds)).sum().item()\n",
        "            acc = correct/len(test_loader.dataset)\n",
        "\n",
        "        test_loss /= len(test_loader.dataset)\n",
        "        print('    Average loss: ', format(test_loss.item(),\"10.2E\") , ' Accuracy: ', 100.*acc, '%')\n",
        "    return(test_loss, acc)"
      ],
      "execution_count": null,
      "outputs": []
    },
    {
      "cell_type": "code",
      "metadata": {
        "id": "9_N1HueM0iSv"
      },
      "source": [
        "# Plot the loss:\n",
        "def f_Plot_loss(losses):\n",
        "  plt.plot(losses, '-', color = \"black\")\n",
        "  plt.title('Training Loss')\n",
        "  plt.xlabel('Iteration')\n",
        "  plt.ylabel('Loss')\n",
        "  plt.grid()\n",
        "  plt.show()"
      ],
      "execution_count": null,
      "outputs": []
    },
    {
      "cell_type": "markdown",
      "metadata": {
        "id": "ssdJEmtqJZYL"
      },
      "source": [
        "### Experiment: Fitting a Curve:"
      ]
    },
    {
      "cell_type": "code",
      "metadata": {
        "id": "ua2lJxpCnwdM"
      },
      "source": [
        "# # Experiment: Output rocket angle using single state input\n",
        "\n",
        "# x1_Vec = x1_vec.reshape((Nt, 1))\n",
        "# uN_V = uN.reshape((Nt, 1))\n",
        "\n",
        "# device = 'cuda' if torch.cuda.is_avamilable() else 'cpu'\n",
        "\n",
        "# train_loader, train_data, train_labels = f_Data(x1_Vec/1e4,uN_V)\n",
        "# print(train_data.size())\n",
        "# # d = np.arange(901).reshape((Nt, 1))\n",
        "# # train_loader, x_axis_torch, train_data, train_labels = f_Data(d,uN_V)\n",
        "\n",
        "# lr = 2e-3 # Learning rate\n",
        "# # lr = 1e-4 # Learning rate\n",
        "# n_epochs = 50 # Number of training epochs\n",
        "# plot_every = n_epochs/5 # Plot five times\n",
        "\n",
        "# num_in = 1 # Dimension of input\n",
        "# num_out = 1 # Dimension of output\n",
        "\n",
        "# w1 = 40 # Width of hidden layer 1\n",
        "# w2 = 40 # Width of hidden layer 2\n",
        "\n",
        "# losses = [] # Array of training losses\n",
        "\n",
        "# model2 = fc_net(num_in, num_out, w1).to(device)\n",
        "# loss = nn.MSELoss(reduction='mean') # Mean squared error loss\n",
        "# opt = torch.optim.Adam(model2.parameters(), lr=lr, weight_decay=1e-5) # Adam\n",
        "\n",
        "# for epoch in np.arange(n_epochs)+1:\n",
        "#   train(model2,loss,train_loader,opt,epoch)\n",
        "\n",
        "#   if (epoch % plot_every) == 0:\n",
        "#     labels = train_labels.cpu().detach().numpy()\n",
        "#     labels_hat = model2(train_data).cpu().detach().numpy()\n",
        "\n",
        "#     plt.plot(labels)\n",
        "#     plt.plot(labels_hat)\n",
        "#     plt.grid()\n",
        "#     plt.show()\n",
        "\n",
        "# f_Plot_loss(losses)"
      ],
      "execution_count": null,
      "outputs": []
    },
    {
      "cell_type": "code",
      "metadata": {
        "id": "ud2s3hqvA-hu"
      },
      "source": [
        "# # Experiment: Output rocket angle using all state inputs\n",
        "\n",
        "# device = 'cuda' if torch.cuda.is_available() else 'cpu'\n",
        "\n",
        "# uN_V = uN.reshape((Nt, 1))\n",
        "\n",
        "# XN_rescale = XN.copy()\n",
        "# XN_rescale[0,:] /= 1e4\n",
        "# XN_rescale[1,:] /= 1e4\n",
        "# XN_rescale[2,:] /= 1e4\n",
        "# XN_rescale[3,:] /= 1e3\n",
        "# Xr = np.concatenate((XN_rescale.T,tvec.reshape((Nt,1))/1e3),axis=1)\n",
        "\n",
        "# train_loader, train_data, train_labels = f_Data(Xr,uN_V)\n",
        "\n",
        "# lr = 2e-3 # Learning rate\n",
        "# n_epochs = 500 # Number of training epochs\n",
        "# plot_every = n_epochs/5 # Plot five times\n",
        "\n",
        "# num_in = 5 # Dimension of input\n",
        "# num_out = 1 # Dimension of output\n",
        "\n",
        "# w1 = 100 # Width of hidden layer 1\n",
        "\n",
        "# losses = [] # Array of training losses\n",
        "\n",
        "# model3 = fc_net(num_in, num_out, w1).to(device)\n",
        "# loss = nn.MSELoss(reduction='mean') # Mean squared error loss\n",
        "# opt = torch.optim.Adam(model3.parameters(), lr=lr, weight_decay=1e-5) # Adam\n",
        "\n",
        "# for epoch in np.arange(n_epochs)+1:\n",
        "#   train(model3,loss,train_loader,opt,epoch)\n",
        "\n",
        "#   if (epoch % plot_every) == 0:\n",
        "#     labels = train_labels.cpu().detach().numpy()\n",
        "#     labels_hat = model3(train_data).cpu().detach().numpy()\n",
        "\n",
        "#     plt.plot(labels)\n",
        "#     plt.plot(labels_hat)\n",
        "#     plt.grid()\n",
        "#     plt.show()\n",
        "\n",
        "# f_Plot_loss(losses)"
      ],
      "execution_count": null,
      "outputs": []
    },
    {
      "cell_type": "markdown",
      "metadata": {
        "id": "JtZVjIJPJdKQ"
      },
      "source": [
        "### Experiment: Classification:"
      ]
    },
    {
      "cell_type": "code",
      "metadata": {
        "id": "SzTmU2lbJbeZ"
      },
      "source": [
        "# # Experiment: Classification. Test how to get argmax.\n",
        "\n",
        "# device = 'cuda' if torch.cuda.is_available() else 'cpu'\n",
        "\n",
        "# x1_vec = XN[0,:] # Horizontal displacement\n",
        "# x1_Vec = x1_vec.reshape((Nt, 1))\n",
        "# y = np.random.choice([0,1],size=Nt)\n",
        "\n",
        "# train_loader, train_data, train_labels = f_Data(x1_Vec/1e4,y,mode=1)\n",
        "\n",
        "# lr = 2e-3 # Learning rate\n",
        "# n_epochs = 100 # Number of training epochs\n",
        "# plot_every = n_epochs/5 # Plot five times\n",
        "\n",
        "# num_in = 1 # Dimension of input\n",
        "# num_out = 2 # Dimension of output\n",
        "\n",
        "# w1 = 100 # Width of hidden layer 1\n",
        "\n",
        "# losses = [] # Array of training losses\n",
        "\n",
        "# model4 = fc_net2(num_in, num_out, w1).to(device)\n",
        "# loss = nn.CrossEntropyLoss() # Cross-entropy loss\n",
        "# # opt = torch.optim.SGD(model.parameters(), lr=0.1) # SGD\n",
        "# # opt = torch.optim.SGD(model.parameters(), lr=0.1, momentum=0.4) # SGD with momentum\n",
        "# opt = torch.optim.Adam(model4.parameters(), lr=lr, weight_decay=1e-5) # Adam\n",
        "\n",
        "# for epoch in np.arange(n_epochs)+1:\n",
        "#   train(model4,loss,train_loader,opt,epoch)\n",
        "\n",
        "#   if (epoch % plot_every) == 0:\n",
        "#     labels = train_labels.cpu().detach().numpy()\n",
        "#     labels_hat = model4(train_data).cpu().detach().numpy()\n",
        "\n",
        "#     # plt.plot(labels)\n",
        "#     # plt.plot(labels_hat)\n",
        "#     # plt.grid()\n",
        "#     # plt.show()\n",
        "\n",
        "# f_Plot_loss(losses)"
      ],
      "execution_count": null,
      "outputs": []
    },
    {
      "cell_type": "code",
      "metadata": {
        "id": "KgxoeGXtVaXO"
      },
      "source": [
        "# # Experiment: 5 inputs, 16 outputs.\n",
        "\n",
        "# device = 'cuda' if torch.cuda.is_available() else 'cpu'\n",
        "\n",
        "# XN_rescale = XN.copy()\n",
        "# XN_rescale[0,:] /= 1e4\n",
        "# XN_rescale[1,:] /= 1e4\n",
        "# XN_rescale[2,:] /= 1e4\n",
        "# XN_rescale[3,:] /= 1e3\n",
        "# Xr = np.concatenate((XN_rescale.T,tvec.reshape((Nt,1))/1e3),axis=1)\n",
        "\n",
        "# # y = np.random.choice([0,1],size=Nt)\n",
        "# y = np.random.choice(np.arange(16),size=Nt)\n",
        "\n",
        "# train_loader, train_data, train_labels = f_Data(Xr,y,mode=1)\n",
        "\n",
        "# lr = 2e-3 # Learning rate\n",
        "# n_epochs = 100 # Number of training epochs\n",
        "# plot_every = n_epochs/5 # Plot five times\n",
        "\n",
        "# num_in = 5 # Dimension of input\n",
        "# num_out = 16 # Dimension of output\n",
        "\n",
        "# w1 = 100 # Width of hidden layer 1\n",
        "\n",
        "# losses = [] # Array of training losses\n",
        "\n",
        "# model5 = fc_net2(num_in, num_out, w1).to(device)\n",
        "# loss = nn.CrossEntropyLoss() # Cross-entropy loss\n",
        "# # opt = torch.optim.SGD(model.parameters(), lr=0.1) # SGD\n",
        "# # opt = torch.optim.SGD(model.parameters(), lr=0.1, momentum=0.4) # SGD with momentum\n",
        "# opt = torch.optim.Adam(model5.parameters(), lr=lr, weight_decay=1e-5) # Adam\n",
        "\n",
        "# for epoch in np.arange(n_epochs)+1:\n",
        "#   train(model5,loss,train_loader,opt,epoch)\n",
        "\n",
        "#   if (epoch % plot_every) == 0:\n",
        "#     labels = train_labels.cpu().detach().numpy()\n",
        "#     labels_hat = model5(train_data).cpu().detach().numpy()\n",
        "\n",
        "#     # plt.plot(labels)\n",
        "#     # plt.plot(labels_hat)\n",
        "#     # plt.grid()\n",
        "#     # plt.show()\n",
        "\n",
        "# f_Plot_loss(losses)"
      ],
      "execution_count": null,
      "outputs": []
    },
    {
      "cell_type": "code",
      "metadata": {
        "id": "JEXUmdLGJGEb"
      },
      "source": [
        "# test(model5,loss,train_loader)\n",
        "\n",
        "# cur_x, cur_y = next(iter(train_loader))\n",
        "# output = model5.forward(cur_x)\n",
        "# preds = output.argmax(dim=1, keepdim=True)\n",
        "# preds\n",
        "\n",
        "# cur_x = torch.from_numpy(Xr).float().to(device)\n",
        "# for i in np.arange(200):\n",
        "#   output = model5.forward(cur_x[i])\n",
        "#   preds = output.argmax(dim=0, keepdim=True)\n",
        "#   print(preds)\n",
        "\n",
        "# cur_x = torch.from_numpy(Xr).float().to(device)\n",
        "# output = model5.forward(cur_x[200])\n",
        "# output\n",
        "# pred = output.argmax(dim=0, keepdim=True).detach().numpy()[0]\n",
        "# # pred = output.argmax(dim=0, keepdim=True).cpu().detach().numpy()[0]\n",
        "# pred\n",
        "# output[5]"
      ],
      "execution_count": null,
      "outputs": []
    },
    {
      "cell_type": "markdown",
      "metadata": {
        "id": "__PYFsxAGux1"
      },
      "source": [
        "## Deep Q-Learning"
      ]
    },
    {
      "cell_type": "code",
      "metadata": {
        "id": "6O3h_wYwJNyq"
      },
      "source": [
        "# Single time step of dynamic model\n",
        "def f_Transition(X,u,T,g,dt):\n",
        "  # Update derivative using the equations of motion\n",
        "  Xp = np.array([X[2], X[3], T*np.cos(u), T*np.sin(u) - g])\n",
        "  return X + Xp*dt # Update state"
      ],
      "execution_count": null,
      "outputs": []
    },
    {
      "cell_type": "code",
      "metadata": {
        "id": "BVOZI7tXtS4e"
      },
      "source": [
        "# # Assign reward given state s, time ti, and target height h\n",
        "# def f_Reward(X,X_1,ti,tf,h):\n",
        "#   # x1 = X[0]\n",
        "#   x2 = X[1]\n",
        "#   # x3 = X[2]\n",
        "#   # x4 = X[3]\n",
        "\n",
        "#   # x1_1 = X_1[0]\n",
        "#   x2_1 = X_1[1]\n",
        "#   # x3_1 = X_1[2]\n",
        "#   x4_1 = X_1[3]\n",
        "\n",
        "#   # height_reward = -((x2_1-h)/h)**2 # Penalize vertical displacement from h\n",
        "#   # vert_speed_cost = -(x4/1000)**2\n",
        "#   # horiz_speed_reward = x3/1000\n",
        "\n",
        "#   # dx = x2_1 - x2\n",
        "#   # dh = h - x2\n",
        "#   # dh_1 = h - x2_1\n",
        "#   # if (dx > 0 and dh_1 > 0) or (dx < 0 and dh_1 < 0):\n",
        "#   #   height_reward = 1\n",
        "#   #   # height_reward = np.abs(dh)\n",
        "#   # else:\n",
        "#   #   height_reward = -1\n",
        "#   #   # height_reward = -np.abs(dh)\n",
        "\n",
        "#   dh = np.abs(h - x2)\n",
        "#   dh_1 = np.abs(h - x2_1)\n",
        "#   if dh_1 < dh:\n",
        "#     height_reward = 1\n",
        "#   else:\n",
        "#     height_reward = -1\n",
        "\n",
        "#   if x4_1 > 650 or x4_1 < -100:\n",
        "#     vert_speed_cost = -0.5\n",
        "#   else: \n",
        "#     vert_speed_cost = 0\n",
        "\n",
        "#   return height_reward + vert_speed_cost\n",
        "\n",
        "# # If we are within 10% of the closest to h we have ever been --> assign a reward\n",
        "\n",
        "#   # return height_cost*(ti/tf)\n",
        "#   # return horiz_speed_reward + height_cost"
      ],
      "execution_count": null,
      "outputs": []
    },
    {
      "cell_type": "code",
      "metadata": {
        "id": "Mby1OUMMOdTn"
      },
      "source": [
        "# # # Assign reward given state X, time ti, and target height h\n",
        "# def f_Reward(X,X_1,ti,tf,h,min_d):\n",
        "#   # x1 = X[0]\n",
        "#   # x2 = X[1]\n",
        "#   # x3 = X[2]\n",
        "#   # x4 = X[3]\n",
        "\n",
        "#   # x1_1 = X_1[0]\n",
        "#   x2_1 = X_1[1]\n",
        "#   x3_1 = X_1[2]\n",
        "#   x4_1 = X_1[3]\n",
        "\n",
        "#   if np.abs(h - x2_1) < np.max(min_d,h/10):\n",
        "#     height_reward = 1\n",
        "#   else:\n",
        "#     height_reward = 0\n",
        "\n",
        "#   # if x4_1 > 650 or x4_1 < -100 or x3_1 < 0:\n",
        "#   #   vert_speed_cost = -0.5\n",
        "#   # else: \n",
        "#   #   vert_speed_cost = 0\n",
        "\n",
        "#   return height_reward\n",
        "#   # return height_reward + vert_speed_cost"
      ],
      "execution_count": null,
      "outputs": []
    },
    {
      "cell_type": "code",
      "metadata": {
        "id": "auWV6DI36CoJ"
      },
      "source": [
        "# # Assign reward given state X, time ti, and target height h\n",
        "def f_Reward(X,X_1,ti,tf,h):\n",
        "  # x1 = X[0]\n",
        "  # x2 = X[1]\n",
        "  # x3 = X[2]\n",
        "  # x4 = X[3]\n",
        "\n",
        "  # x1_1 = X_1[0]\n",
        "  x2_1 = X_1[1]\n",
        "  # x3_1 = X_1[2]\n",
        "  # x4_1 = X_1[3]\n",
        "\n",
        "  height_reward = -((x2_1-h)/h)**2 # Penalize vertical displacement from h\n",
        "\n",
        "  # if np.abs(x2_1-h) < 50000:\n",
        "  #   height_reward += 1\n",
        "\n",
        "  # if np.abs(x2_1-h) < 10000:\n",
        "  #   height_reward += 2\n",
        "\n",
        "  # if np.abs(x2_1-h) < 5000:\n",
        "  #   height_reward += 5\n",
        "\n",
        "  # if np.abs(x2_1-h) < 1000:\n",
        "  #   height_reward += 5\n",
        "\n",
        "  return height_reward"
      ],
      "execution_count": null,
      "outputs": []
    },
    {
      "cell_type": "code",
      "metadata": {
        "id": "dpga8kb0YfQp"
      },
      "source": [
        "# Rescale the state\n",
        "# (I'm doing this just to get each element of the state to have smaller,\n",
        "# roughly equal magnitudes. This probably isn't necessary.\n",
        "# Will try to remove later.)\n",
        "def f_Rescale_State(X,ti):\n",
        "  Xr = np.concatenate((X,np.array([ti])))\n",
        "  Xr[0] /= 1e4\n",
        "  Xr[1] /= 1e4\n",
        "  Xr[2] /= 1e4\n",
        "  Xr[3] /= 1e3\n",
        "  Xr[4] /= 1e3\n",
        "  return Xr\n",
        "\n",
        "# X = np.array([1e4,2e4,3e4,4e3])\n",
        "# f_Rescale_State(X,5e3)"
      ],
      "execution_count": null,
      "outputs": []
    },
    {
      "cell_type": "code",
      "metadata": {
        "id": "qrH9CTa0M48w"
      },
      "source": [
        "# Deep Q-Learning\n",
        "def f_Deep_Q_Learning(N_e,alpha,eps,gamma,A,T,g,h,X0,u0,t0,tf,dt,policy_net,criterion,opt):\n",
        "  # INPUTS:\n",
        "  # N_e: number of episodes\n",
        "  # alpha: Q-learning parameter\n",
        "  # eps: epsilon-greedy parameter\n",
        "  # gamma: Q-learning parameter\n",
        "  # A: action space\n",
        "  # T: rocket thrust\n",
        "  # g: gravitational acceleration\n",
        "  # h: target height\n",
        "  # X0: start state\n",
        "  # u0: start angle\n",
        "  # t0: start time\n",
        "  # tf: final time\n",
        "  # dt: time step length\n",
        "  # policy_net: neural net\n",
        "  # criterion: loss function\n",
        "  # opt: optimizer\n",
        "\n",
        "  losses = [] # Array of training losses\n",
        "  RN = [] # Array of rewards\n",
        "  # min_d = np.abs(h - X0[1])\n",
        "\n",
        "  # Loop over episodes:\n",
        "  for j in np.arange(N_e):\n",
        "    print(\"Episode: \", j+1)\n",
        "    i = 0 # Initialize counter\n",
        "    ti = t0 # Set time counter to zero\n",
        "    Nt = int(tf/dt)+1 # Number of time steps\n",
        "    u = u0 # Start angle\n",
        "    uN = [u0] # Initialize nominal control vector\n",
        "    X = X0 # Start from initial state\n",
        "    XN = np.zeros((4,Nt)) # Initialize nominal state vector\n",
        "    XN[:,0] = X0 # Initial conditions\n",
        "    # RN = [] # Array of rewards\n",
        "    # min_d = np.abs(h - X0[1])\n",
        "\n",
        "    # Loop over steps in trajectory:\n",
        "    while ti <= tf-dt:\n",
        "\n",
        "      Xr = torch.from_numpy(f_Rescale_State(X,ti)).float().to(device) # Rescale state\n",
        "      output = policy_net.forward(Xr) # Get neural net output for current state\n",
        "\n",
        "      # Epsilon-greedy strategy:\n",
        "      rand = np.random.choice((0,1),p=(1-eps,eps))\n",
        "      # Explore:\n",
        "      if rand == 0:\n",
        "        a = np.random.choice(A) # Random action\n",
        "      # Exploit:\n",
        "      else:\n",
        "        a = output.argmax(dim=0, keepdim=True).detach().numpy()[0] # Get argmax of neural net\n",
        "        # a = output.argmax(dim=0, keepdim=True).cpu().detach().numpy()[0] # Get argmax of neural net\n",
        "      \n",
        "      # u = f_PD_Controller(X,ti,Nt,h,g,T) # PD Controller\n",
        "      # u += (a - 1)*np.pi/180 # Alter rocket angle\n",
        "\n",
        "      # Alter rocket angle\n",
        "      if a == 0:\n",
        "        u -= np.pi/180/5\n",
        "      else:\n",
        "        u += np.pi/180/5\n",
        "\n",
        "      if j == N_e-1:\n",
        "        uN.append(u) # Append control for last time step\n",
        "\n",
        "      # Transition to new state:\n",
        "      X_1 = f_Transition(X,u,T,g,dt) # Update state\n",
        "      ti += 1 # Update time step\n",
        "\n",
        "      # new_d = np.abs(h - X_1[1])\n",
        "      # if new_d < min_d:\n",
        "      #   min_d = new_d\n",
        "\n",
        "      Xr_1 = torch.from_numpy(f_Rescale_State(X_1,ti)).float().to(device) # Rescale new state\n",
        "      output_1 = policy_net.forward(Xr_1) # Get neural net output for new state\n",
        "\n",
        "      # Assign reward:\n",
        "      R = f_Reward(X,X_1,ti,tf,h)\n",
        "      RN.append(R)\n",
        "\n",
        "      # Q-learning update:\n",
        "      Q = output[a] # Current Q(X,a)\n",
        "      Q_max = output_1.max()\n",
        "      Q_hat = R + gamma*Q_max\n",
        "\n",
        "      # Compute loss:\n",
        "      loss = criterion(Q,Q_hat)\n",
        "\n",
        "      # Train the neural net:\n",
        "      opt.zero_grad() # Zero out gradients\n",
        "      loss.backward() # Backprop\n",
        "      opt.step() # Step of optimizer\n",
        "      losses.append(loss) # Append loss to array of losses\n",
        "\n",
        "      X = X_1 # Update state\n",
        "      i += 1 # Increment counter\n",
        "      if j == N_e-1:\n",
        "        XN[:,i] = X # Update nominal state vector\n",
        "\n",
        "  return losses, XN, np.array(uN), np.array(RN), policy_net"
      ],
      "execution_count": null,
      "outputs": []
    },
    {
      "cell_type": "code",
      "metadata": {
        "id": "36zxE-1rwqrH"
      },
      "source": [
        "# Double Deep Q-Learning\n",
        "def f_Double_Deep_Q_Learning(N_e,alpha,eps,gamma,A,T,g,h,X0,u0,t0,tf,dt,policy_net,target_net,criterion,opt,target_update):\n",
        "  # INPUTS:\n",
        "  # N_e: number of episodes\n",
        "  # alpha: Learning rate\n",
        "  # eps: epsilon-greedy parameter\n",
        "  # gamma: Discount factor\n",
        "  # A: action space\n",
        "  # T: rocket thrust\n",
        "  # g: gravitational acceleration\n",
        "  # h: target height\n",
        "  # X0: start state\n",
        "  # u0: start angle\n",
        "  # t0: start time\n",
        "  # tf: final time\n",
        "  # dt: time step length\n",
        "  # policy_net: 1st neural net\n",
        "  # target_net: 2nd neural net; updated less often\n",
        "  # criterion: loss function\n",
        "  # opt: optimizer\n",
        "  # target_update: number of episodes before target_net is updated\n",
        "\n",
        "  losses = [] # Array of training losses\n",
        "  RN = [] # Array of rewards\n",
        "  # min_d = np.abs(h - X0[1])\n",
        "\n",
        "  # Loop over episodes:\n",
        "  for j in np.arange(N_e):\n",
        "    print(\"Episode: \", j+1)\n",
        "    i = 0 # Initialize counter\n",
        "    ti = t0 # Set time counter to zero\n",
        "    Nt = int(tf/dt)+1 # Number of time steps\n",
        "    u = u0 # Start angle\n",
        "    uN = [u0] # Initialize nominal control vector\n",
        "    X = X0 # Start from initial state\n",
        "    XN = np.zeros((4,Nt)) # Initialize nominal state vector\n",
        "    XN[:,0] = X0 # Initial conditions\n",
        "    # min_d = np.abs(h - X0[1])\n",
        "    # RN = [] # Array of rewards\n",
        "\n",
        "    # Loop over steps in trajectory:\n",
        "    while ti <= tf-dt:\n",
        "\n",
        "      Xr = torch.from_numpy(f_Rescale_State(X,ti)).float().to(device) # Rescale state\n",
        "      output = policy_net.forward(Xr) # Get neural net output for current state\n",
        "\n",
        "      # Epsilon-greedy strategy:\n",
        "      rand = np.random.choice((0,1),p=(1-eps,eps))\n",
        "      # Explore:\n",
        "      if rand == 0 and j < N_e-1:\n",
        "        a = np.random.choice(A) # Random action\n",
        "      # Exploit:\n",
        "      else:\n",
        "        a = output.argmax(dim=0, keepdim=True).detach().numpy()[0] # Get argmax of neural net\n",
        "        # a = output.argmax(dim=0, keepdim=True).cpu().detach().numpy()[0] # Get argmax of neural net\n",
        "      \n",
        "      # u = f_PD_Controller(X,ti,Nt,h,g,T) # PD Controller\n",
        "      # u += ((a - 1)*np.pi/180) # Alter rocket angle\n",
        "      \n",
        "      # Alter rocket angle\n",
        "      if a == 0:\n",
        "        u -= np.pi/180/5\n",
        "      else:\n",
        "        u += np.pi/180/5\n",
        "\n",
        "      if j == N_e-1:\n",
        "        uN.append(u) # Append control for last time step\n",
        "\n",
        "      # Transition to new state:\n",
        "      X_1 = f_Transition(X,u,T,g,dt) # Update state\n",
        "      ti += 1 # Update time step\n",
        "\n",
        "      # new_d = np.abs(h - X_1[1])\n",
        "      # if new_d < min_d:\n",
        "      #   min_d = new_d\n",
        "\n",
        "      Xr_1 = torch.from_numpy(f_Rescale_State(X_1,ti)).float().to(device) # Rescale new state\n",
        "      output_1 = target_net.forward(Xr_1) # Get neural net output for new state\n",
        "\n",
        "      # Assign reward:\n",
        "      R = f_Reward(X,X_1,ti,tf,h)\n",
        "      RN.append(R) # Append reward\n",
        "\n",
        "      # Q-learning update:\n",
        "      Q = output[a] # Current Q(X,a)\n",
        "      Q_max = output_1.max()\n",
        "      Q_hat = R + gamma*Q_max\n",
        "\n",
        "      # Compute loss:\n",
        "      loss = criterion(Q,Q_hat)\n",
        "\n",
        "      # Train the neural net:\n",
        "      opt.zero_grad() # Zero out gradients\n",
        "      loss.backward() # Backprop\n",
        "      opt.step() # Step of optimizer\n",
        "      losses.append(loss) # Append loss to array of losses\n",
        "\n",
        "      X = X_1 # Update state\n",
        "      i += 1 # Increment counter\n",
        "      if j == N_e-1:\n",
        "        XN[:,i] = X # Update nominal state vector\n",
        "\n",
        "      # Update target network with the parameters of policy net\n",
        "      if j % target_update == 0:\n",
        "        target_net.load_state_dict(policy_net.state_dict())\n",
        "\n",
        "  return losses, XN, np.array(uN), np.array(RN), policy_net"
      ],
      "execution_count": null,
      "outputs": []
    },
    {
      "cell_type": "code",
      "metadata": {
        "id": "QcR0djvnNp2j"
      },
      "source": [
        "# Testing functionality\n",
        "def f_Test(T,g,h,X0,u0,t0,tf,dt,policy_net):\n",
        "  # INPUTS:\n",
        "  # T: rocket thrust\n",
        "  # g: gravitational acceleration\n",
        "  # h: target height\n",
        "  # X0: start state\n",
        "  # u0: start angle\n",
        "  # t0: start time\n",
        "  # tf: final time\n",
        "  # dt: time step length\n",
        "  # policy_net: neural net\n",
        "\n",
        "  losses = [] # Array of training losses\n",
        "\n",
        "  i = 0 # Initialize counter\n",
        "  X = X0 # Start from initial state\n",
        "  ti = t0 # Set time counter to zero\n",
        "  u = u0 # Start angle\n",
        "  uN = [u0] # Initialize nominal control vector\n",
        "  Nt = int(tf/dt)+1 # Number of time steps\n",
        "  XN = np.zeros((4,Nt)) # Initialize nominal state\n",
        "  XN[:,0] = X0 # Initial conditions\n",
        "  RN = [] # Array of rewards\n",
        "  # min_d = h/10\n",
        "\n",
        "  # Loop over steps in trajectory:\n",
        "  while ti <= tf-dt:\n",
        "\n",
        "    Xr = torch.from_numpy(f_Rescale_State(X,ti)).float().to(device) # Rescale state\n",
        "    output = policy_net.forward(Xr) # Get neural net output for current state\n",
        "\n",
        "    a = output.argmax(dim=0, keepdim=True).detach().numpy()[0] # Get argmax of neural net\n",
        "    # a = output.argmax(dim=0, keepdim=True).cpu().detach().numpy()[0] # Get argmax of neural net\n",
        "\n",
        "    # u = f_PD_Controller(X,ti,Nt,h,g,T) # PD Controller\n",
        "    # u += ((a - 1)*np.pi/180) # Alter rocket angle\n",
        "\n",
        "    # Alter rocket angle\n",
        "    if a == 0:\n",
        "      u -= np.pi/180/5\n",
        "    else:\n",
        "      u += np.pi/180/5\n",
        "\n",
        "    uN.append(u) # Append control for this time step\n",
        "\n",
        "    # Transition to new state:\n",
        "    X_1 = f_Transition(X,u,T,g,dt) # Update state\n",
        "    ti += 1 # Update time step\n",
        "\n",
        "    # Assign reward:\n",
        "    R = f_Reward(X,X_1,ti,tf,h)\n",
        "    RN.append(R) # Append reward to array\n",
        "\n",
        "    X = X_1 # Update state\n",
        "    i += 1 # Increment counter\n",
        "    XN[:,i] = X # Update nominal state vector\n",
        "\n",
        "  return XN, np.array(uN), np.array(RN)"
      ],
      "execution_count": null,
      "outputs": []
    },
    {
      "cell_type": "code",
      "metadata": {
        "id": "TiGaDtumMsmM"
      },
      "source": [
        "# Plot losses\n",
        "def f_Plot_Loss(losses,Nt,N_e):\n",
        "  fig, ax = plt.subplots(1,1, figsize = (7,7))\n",
        "  ax.plot(np.arange((Nt-1)*N_e),losses, '-', color = \"black\")\n",
        "  # ax.set_title('Loss', fontsize = 25)\n",
        "  ax.set_xlabel('Time Step', fontsize = 20)\n",
        "  ax.set_ylabel('Loss', fontsize = 20)\n",
        "  plt.xticks(fontsize = 20)\n",
        "  plt.yticks(fontsize = 20)\n",
        "  plt.grid()\n",
        "  plt.show()"
      ],
      "execution_count": null,
      "outputs": []
    },
    {
      "cell_type": "code",
      "metadata": {
        "id": "k8gNMTOgTYro"
      },
      "source": [
        "# Run Deep Q-learning\n",
        "\n",
        "## System Parameters:\n",
        "g = 32 # Gravitational acceleration (ft/sec^2)\n",
        "T = 2*g # Constant specific thrust of the rocket\n",
        "h = 320000 # Final height (ft)\n",
        "t0 = 0 # Start time (sec)\n",
        "tf = 900 # Final time (sec)\n",
        "dt = 1 # Time step (in diff. eq. solver)\n",
        "Nt = int(tf/dt)+1 # Number of time steps\n",
        "tvec = np.linspace(0,tf,Nt) # Vector of time steps\n",
        "\n",
        "X0 = np.array([0,0,0,0]) # Initial conditions\n",
        "u0 = 0.55 # Initial rocket angle (rad)\n",
        "\n",
        "# Q-learning parameters:\n",
        "N_e = 1000 # Number of episodes\n",
        "alpha = 0.9 # Learning rate\n",
        "eps = 0.9 # Epsilon-greedy parameter\n",
        "gamma = 0.99 # Discount factor\n",
        "\n",
        "## Neural net parameters:\n",
        "lr = 2e-3 # Learning rate\n",
        "num_in = 5 # Dimension of input\n",
        "num_out = 2 # Dimension of output\n",
        "A = np.arange(num_out) # Action space\n",
        "w1 = 20 # Width of 1st hidden layer\n",
        "w2 = 20 # Width of 2nd hidden layer\n",
        "device = 'cuda' if torch.cuda.is_available() else 'cpu'\n",
        "policy_net = fc_net2(num_in, num_out, w1, w2).to(device) # Policy network (updated every iteration)\n",
        "target_net = fc_net2(num_in, num_out, w1, w2).to(device) # Target network (updated less often)\n",
        "target_net.load_state_dict(policy_net.state_dict())\n",
        "target_net.eval()\n",
        "# criterion = nn.CrossEntropyLoss() # Cross-entropy loss\n",
        "criterion = nn.SmoothL1Loss() # Huber loss\n",
        "opt = torch.optim.Adam(policy_net.parameters(), lr=lr, weight_decay=1e-5) # Adam\n",
        "target_update = 10 # Number of episodes before updating target network"
      ],
      "execution_count": null,
      "outputs": []
    },
    {
      "cell_type": "code",
      "metadata": {
        "id": "TOiRSPkyOVMD"
      },
      "source": [
        "# t = time.time()\n",
        "# losses, XN, uN, RN, policy_net = f_Deep_Q_Learning(N_e,alpha,eps,gamma,A,T,g,h,X0,u0,t0,tf,dt,policy_net,criterion,opt)\n",
        "# print(\"Time Elapsed: \", time.time() - t)"
      ],
      "execution_count": null,
      "outputs": []
    },
    {
      "cell_type": "code",
      "metadata": {
        "id": "DNlrgLlRPivO"
      },
      "source": [
        "# f_Plot_Loss(losses,Nt,N_e)\n",
        "\n",
        "# XN_t, uN_t, RN_t = f_Test(T,g,h,X0,u0,t0,tf,dt,policy_net)\n",
        "\n",
        "# f_Plot_Control_State(XN_t,uN_t,tvec)\n",
        "\n",
        "# plt.plot(RN)\n",
        "\n",
        "# # f_Plot_States(XN_t,tvec)"
      ],
      "execution_count": null,
      "outputs": []
    },
    {
      "cell_type": "code",
      "metadata": {
        "id": "a9Q72ZByNM5m"
      },
      "source": [
        "t = time.time()\n",
        "losses, XN, uN, RN, policy_net = f_Double_Deep_Q_Learning(N_e,alpha,eps,gamma,A,T,g,h,X0,u0,t0,tf,dt,policy_net,target_net,criterion,opt,target_update)\n",
        "print(\"Time Elapsed: \", time.time() - t)"
      ],
      "execution_count": null,
      "outputs": []
    },
    {
      "cell_type": "code",
      "metadata": {
        "id": "oc38635NNfRK"
      },
      "source": [
        "f_Plot_Loss(losses,Nt,N_e)\n",
        "\n",
        "XN_t, uN_t, RN_t = f_Test(T,g,h,X0,u0,t0,tf,dt,policy_net)\n",
        "\n",
        "f_Plot_Control_State(XN,uN,tvec)\n",
        "\n",
        "plt.plot(RN)\n",
        "\n",
        "# f_Plot_States(XN_t,tvec)"
      ],
      "execution_count": null,
      "outputs": []
    },
    {
      "cell_type": "code",
      "metadata": {
        "id": "lievU5NnVIDm"
      },
      "source": [
        "## TODO:\n",
        "# Experience replay\n",
        "# Comment and clean up code; package various things in functions\n",
        "\n",
        "## Extras:\n",
        "# Remove state rescaling\n",
        "# Combine with PD Controller? --> Either additive or through gains (try both) or through off-policy learning\n",
        "# Different initial conditions and final conditions\n",
        "# How can we modify the start control?\n",
        "# Play with reward shaping (try an exponential weighting on time?) (gradually make rewards sparser?)\n",
        "# QUESTION: Can we use optimal control Lagrange multipliers to help set constants for the rewards?\n",
        "# Play with control scaling (1 degree per time step? Less?)\n",
        "# RRT + Q-learning"
      ],
      "execution_count": null,
      "outputs": []
    }
  ]
}